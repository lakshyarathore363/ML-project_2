{
  "nbformat": 4,
  "nbformat_minor": 0,
  "metadata": {
    "colab": {
      "provenance": [],
      "authorship_tag": "ABX9TyMbJI/LxxtlcC3V0TXKpzwW",
      "include_colab_link": true
    },
    "kernelspec": {
      "name": "python3",
      "display_name": "Python 3"
    },
    "language_info": {
      "name": "python"
    }
  },
  "cells": [
    {
      "cell_type": "markdown",
      "metadata": {
        "id": "view-in-github",
        "colab_type": "text"
      },
      "source": [
        "<a href=\"https://colab.research.google.com/github/lakshyarathore363/ML-project_2/blob/main/Untitled0.ipynb\" target=\"_parent\"><img src=\"https://colab.research.google.com/assets/colab-badge.svg\" alt=\"Open In Colab\"/></a>"
      ]
    },
    {
      "cell_type": "code",
      "execution_count": 4,
      "metadata": {
        "colab": {
          "base_uri": "https://localhost:8080/"
        },
        "id": "pkG2zodtKXoJ",
        "outputId": "7f29dc10-c960-424e-bf65-9c81aa3a88ce"
      },
      "outputs": [
        {
          "output_type": "stream",
          "name": "stdout",
          "text": [
            "TensorFlow version: 2.9.2\n"
          ]
        }
      ],
      "source": [
        "import tensorflow as tf\n",
        "print(\"TensorFlow version:\", tf.__version__)\n"
      ]
    },
    {
      "cell_type": "code",
      "source": [
        "mnist = tf.keras.datasets.mnist\n",
        "\n",
        "(x_train, y_train), (x_test, y_test) = mnist.load_data()\n",
        "x_train, x_test = x_train / 255.0, x_test / 255.0"
      ],
      "metadata": {
        "id": "aiCLA4CWKy3t"
      },
      "execution_count": 5,
      "outputs": []
    },
    {
      "cell_type": "code",
      "source": [
        "\n",
        "\n",
        "\n",
        "model = tf.keras.models.Sequential([\n",
        "  tf.keras.layers.Flatten(input_shape=(28, 28)),\n",
        "  tf.keras.layers.Dense(128, activation='relu'),\n",
        "  tf.keras.layers.Dropout(0.2),\n",
        "  tf.keras.layers.Dense(10)\n",
        "])\n",
        "\n",
        "\n",
        "\n",
        "predictions = model(x_train[:1]).numpy()\n",
        "predictions\n",
        "\n",
        "\n",
        "tf.nn.softmax(predictions).numpy()\n",
        "\n",
        "\n",
        "loss_fn = tf.keras.losses.SparseCategoricalCrossentropy(from_logits=True)\n",
        "\n",
        "\n",
        "\n",
        "loss_fn(y_train[:1], predictions).numpy()\n",
        "\n",
        "\n",
        "model.compile(optimizer='adam',\n",
        "              loss=loss_fn,\n",
        "              metrics=['accuracy'])\n",
        "\n",
        "\n",
        "\n",
        "model.fit(x_train, y_train, epochs=5)\n",
        "\n",
        "\n",
        "model.evaluate(x_test,  y_test, verbose=2)\n",
        "\n",
        "\n",
        "\n",
        "probability_model = tf.keras.Sequential([\n",
        "  model,\n",
        "  tf.keras.layers.Softmax()\n",
        "])\n",
        "\n",
        "\n",
        "\n",
        "probability_model(x_test[:5])"
      ],
      "metadata": {
        "colab": {
          "base_uri": "https://localhost:8080/"
        },
        "id": "O9ETLP0rK_22",
        "outputId": "3eb7fada-53c6-4f6f-8875-c3c971cbf29a"
      },
      "execution_count": 6,
      "outputs": [
        {
          "output_type": "stream",
          "name": "stdout",
          "text": [
            "Epoch 1/5\n",
            "1875/1875 [==============================] - 5s 2ms/step - loss: 0.2974 - accuracy: 0.9124\n",
            "Epoch 2/5\n",
            "1875/1875 [==============================] - 5s 2ms/step - loss: 0.1448 - accuracy: 0.9564\n",
            "Epoch 3/5\n",
            "1875/1875 [==============================] - 4s 2ms/step - loss: 0.1090 - accuracy: 0.9661\n",
            "Epoch 4/5\n",
            "1875/1875 [==============================] - 5s 2ms/step - loss: 0.0886 - accuracy: 0.9724\n",
            "Epoch 5/5\n",
            "1875/1875 [==============================] - 5s 2ms/step - loss: 0.0770 - accuracy: 0.9757\n",
            "313/313 - 1s - loss: 0.0711 - accuracy: 0.9780 - 569ms/epoch - 2ms/step\n"
          ]
        },
        {
          "output_type": "execute_result",
          "data": {
            "text/plain": [
              "<tf.Tensor: shape=(5, 10), dtype=float32, numpy=\n",
              "array([[2.8367362e-09, 2.1224462e-09, 2.9176977e-06, 2.6331289e-04,\n",
              "        1.3270780e-10, 7.0364808e-07, 1.2472902e-14, 9.9973196e-01,\n",
              "        1.7102514e-07, 8.6685162e-07],\n",
              "       [3.4025624e-07, 1.6093127e-03, 9.9836403e-01, 2.0264895e-05,\n",
              "        1.4218179e-10, 4.2344705e-06, 3.8473803e-07, 6.7575549e-11,\n",
              "        1.4605121e-06, 1.9140694e-12],\n",
              "       [3.8976847e-07, 9.9803203e-01, 2.4318937e-04, 1.6728009e-05,\n",
              "        3.9623319e-05, 1.7008915e-05, 2.1747555e-05, 1.3410368e-03,\n",
              "        2.8694718e-04, 1.3092335e-06],\n",
              "       [9.9995005e-01, 4.4103800e-11, 2.6854730e-05, 4.1384382e-07,\n",
              "        1.4365044e-06, 7.3515918e-07, 1.8261277e-05, 1.9595516e-06,\n",
              "        1.2373170e-08, 3.9593559e-07],\n",
              "       [2.7202734e-05, 1.3485149e-08, 2.3993534e-05, 6.3778424e-07,\n",
              "        9.9088329e-01, 3.1475399e-06, 1.8763361e-05, 7.2352967e-05,\n",
              "        2.4608362e-05, 8.9459699e-03]], dtype=float32)>"
            ]
          },
          "metadata": {},
          "execution_count": 6
        }
      ]
    }
  ]
}